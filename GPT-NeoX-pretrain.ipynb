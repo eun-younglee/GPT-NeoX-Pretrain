{
  "cells": [
    {
      "cell_type": "markdown",
      "metadata": {
        "id": "9C6zDnix06sY"
      },
      "source": [
        "# Download git repository"
      ]
    },
    {
      "cell_type": "code",
      "execution_count": null,
      "metadata": {
        "id": "nSSCnNL6OCHl"
      },
      "outputs": [],
      "source": [
        "!git clone https://github.com/EleutherAI/gpt-neox.git"
      ]
    },
    {
      "cell_type": "markdown",
      "metadata": {
        "id": "IyN0rqGQ1B2O"
      },
      "source": [
        "# Install requirements"
      ]
    },
    {
      "cell_type": "code",
      "execution_count": 2,
      "metadata": {
        "colab": {
          "base_uri": "https://localhost:8080/"
        },
        "id": "ThjL_A20Pb4C",
        "outputId": "a1faa3d1-3ff1-4965-b43a-10c7924dd336"
      },
      "outputs": [
        {
          "name": "stdout",
          "output_type": "stream",
          "text": [
            "/content/gpt-neox\n"
          ]
        }
      ],
      "source": [
        "%cd gpt-neox"
      ]
    },
    {
      "cell_type": "code",
      "execution_count": null,
      "metadata": {
        "id": "reX0I26aPXvY"
      },
      "outputs": [],
      "source": [
        "!pip install -r requirements/requirements.txt\n",
        "!pip install tensorboard==2.14\n",
        "!pip install 'urllib3<2'\n",
        "!pip install -r requirements/requirements-wandb.txt # optional, if logging using WandB\n",
        "!pip install -r requirements/requirements-tensorboard.txt # optional, if logging via tensorboard\n",
        "!python ./megatron/fused_kernels/setup.py install # optional, if using fused kernels"
      ]
    },
    {
      "cell_type": "markdown",
      "metadata": {
        "id": "aRMNFIl51H_T"
      },
      "source": [
        "# Datasets And Tokenizer\n",
        "Make data folder and put dataset inside the folder.The dataset must be in jsonl format. Else you can make your own dataset into jsonl dataset."
      ]
    },
    {
      "cell_type": "code",
      "execution_count": 4,
      "metadata": {
        "id": "U1idnscmPaEI"
      },
      "outputs": [],
      "source": [
        "!mkdir data"
      ]
    },
    {
      "cell_type": "markdown",
      "metadata": {
        "id": "73LhqWHm1UFl"
      },
      "source": [
        "## Make Custom jsonl Dataset(Optional)"
      ]
    },
    {
      "cell_type": "code",
      "execution_count": null,
      "metadata": {
        "id": "hgYBSN2u1Wlr"
      },
      "outputs": [],
      "source": [
        "# read data\n",
        "my_dataset = open(\"my_dataset.txt\", 'r').read()\n",
        "my_dataset = my_dataset.split(\"\\n\")\n",
        "\n",
        "# make data into list\n",
        "list_dict = []\n",
        "for i in range(len(my_dataset)):\n",
        "    dic = {}\n",
        "    dic['text'] = my_dataset[i]\n",
        "    list_dict.append(dic)\n",
        "\n",
        "# make list into jsonl format\n",
        "import json\n",
        "with open('my_dataset.jsonl', 'w', encoding='utf-8') as outfile:\n",
        "    for entry in list_dict:\n",
        "        json.dump(entry, outfile)\n",
        "        outfile.write('\\n')"
      ]
    },
    {
      "cell_type": "markdown",
      "metadata": {
        "id": "aLOCyw-N1rFD"
      },
      "source": [
        "## Tokenizer  \n",
        "There are three options for tokenizer.\n",
        "1. You can download English tokenizers from the link below.\n",
        "2. You can use any tokenizer you want, as long as they are HFGPT2Tokenizer, HFTokenizer, GPT2BPETokenizer, or CharLevelTokenizer.\n",
        "3. You can make custom tokenizer with the code below.   \n",
        "\n",
        "GPT2 Tokenizer\n",
        "- Vocab: https://s3.amazonaws.com/models.huggingface.co/bert/gpt2-vocab.json\n",
        "- Merge: https://s3.amazonaws.com/models.huggingface.co/bert/gpt2-merges.txt\n",
        "\n",
        "GPT-NeoX 20B Tokenizer  \n",
        "https://the-eye.eu/public/AI/models/GPT-NeoX-20B/slim_weights/20B_tokenizer.json  \n"
      ]
    },
    {
      "cell_type": "code",
      "execution_count": null,
      "metadata": {
        "id": "5RmO_R94oNBR"
      },
      "outputs": [],
      "source": [
        "from tokenizers import Tokenizer\n",
        "from tokenizers.models import BPE\n",
        "from tokenizers.trainers import BpeTrainer\n",
        "from tokenizers.pre_tokenizers import Whitespace\n",
        "from tokenizers.processors import TemplateProcessing\n",
        "\n",
        "from transformers import PreTrainedTokenizerFast\n",
        "trainer = BpeTrainer(special_tokens=[\"[UNK]\", \"[CLS]\", \"[SEP]\", \"[PAD]\", \"[MASK]\"], \\\n",
        "\t\t\t\t\t\t\t\t\t\t\tvocab_size = 60000, min_frequency = 5)\n",
        "\n",
        "tokenizer = Tokenizer(BPE(unk_token=\"[UNK]\"))\n",
        "tokenizer.pre_tokenizer = Whitespace()\n",
        "\n",
        "files = [\"./data/tokenizer_data.txt\"]  # has to be txt file\n",
        "tokenizer.train(files, trainer)\n",
        "\n",
        "tokenizer.post_processor = TemplateProcessing(\n",
        "    single=\"[CLS] $A [SEP]\",\n",
        "    pair=\"[CLS] $A [SEP] $B:1 [SEP]:1\",\n",
        "    special_tokens=[\n",
        "        (\"[CLS]\", tokenizer.token_to_id(\"[CLS]\")),\n",
        "        (\"[SEP]\", tokenizer.token_to_id(\"[SEP]\")),\n",
        "    ],\n",
        ")\n",
        "\n",
        "awesome_tokenizer = PreTrainedTokenizerFast(tokenizer_object=tokenizer)\n",
        "awesome_tokenizer.save_pretrained(\"./data\")"
      ]
    },
    {
      "cell_type": "markdown",
      "metadata": {
        "id": "cCc4XPc_26LD"
      },
      "source": [
        "If you are using custom tokenizer, fix gpt-neox/tools/datasets/preprocess_data.py file as below.  \n",
        "\n",
        "```\n",
        "for key, sentences in doc.items():  # from 223rd line\n",
        "    for sentence in sentences:\n",
        "        sentence = list(filter(None.__ne__, sentence))  # add this line\n",
        "```\n",
        "\n"
      ]
    },
    {
      "cell_type": "markdown",
      "metadata": {
        "id": "BocmsMJ23xuY"
      },
      "source": [
        "## Preprocess data\n",
        "Tokenize jsonl file and make into two files, bin and idx."
      ]
    },
    {
      "cell_type": "code",
      "execution_count": null,
      "metadata": {
        "id": "KvCXGv2VX4NV"
      },
      "outputs": [],
      "source": [
        "!python tools/datasets/preprocess_data.py \\\n",
        "            --input /content/gpt-neox/data/my_dataset.jsonl \\  # input file\n",
        "            --output-prefix ./data/mydataset \\  # output file name\n",
        "            --vocab /content/gpt-neox/data/tokenizer.json \\  # tokenizer file\n",
        "            --dataset-impl mmap \\  # dataset implementation, you can choose between lazy, cached, and mmap\n",
        "            --tokenizer-type HFTokenizer \\\n",
        "            --append-eod"
      ]
    },
    {
      "cell_type": "markdown",
      "metadata": {
        "id": "hy13mDtM5h1g"
      },
      "source": [
        "# Train"
      ]
    },
    {
      "cell_type": "markdown",
      "metadata": {
        "id": "j1PSbdLj4k3O"
      },
      "source": [
        "## Prevent ninja build error"
      ]
    },
    {
      "cell_type": "code",
      "execution_count": null,
      "metadata": {
        "id": "VqYExi_JZVMs"
      },
      "outputs": [],
      "source": [
        "!wget https://github.com/ninja-build/ninja/releases/download/v1.8.2/ninja-linux.zip\n",
        "!sudo unzip ninja-linux.zip -d /usr/local/bin/\n",
        "!sudo update-alternatives --install /usr/bin/ninja ninja /usr/local/bin/ninja 1 --force"
      ]
    },
    {
      "cell_type": "markdown",
      "metadata": {
        "id": "zZl8qZyg4xOf"
      },
      "source": [
        "## Fix Configuration Files"
      ]
    },
    {
      "cell_type": "markdown",
      "metadata": {
        "id": "bH37njGP5pB4"
      },
      "source": [
        "Fix two configuration files, local_setup.yml and your_chosen_parameter_size.yml in gpt-neox/configs folder.  \n",
        "Make sure to move tokenizer information from local_setup.yml and move it to your_chosen_parameter_size.yml. \n",
        "\n",
        "**local_setup.yml**\n",
        "\n",
        "```json\n",
        "{\n",
        "  \"data_path\": \"data/mydataset_text_document\",\n",
        "\n",
        "  \"save\": \"checkpoints\",\n",
        "  \"load\": \"checkpoints\",\n",
        "  \"checkpoint_validation_with_forward_pass\": False,\n",
        "\n",
        "  \"tensorboard_dir\": \"tensorboard\",\n",
        "  \"log_dir\": \"logs\",\n",
        "  \"use_wandb\": True,\n",
        "  \"wandb_host\": \"https://api.wandb.ai\",\n",
        "  \"wandb_project\": \"neox\"\n",
        "}\n",
        "```\n",
        "**your_chosen_parameter_size.yml**\n",
        "```json\n",
        "{\n",
        "// parallelism settings\n",
        "// multiplication of the numbers should be the number of GPUs\n",
        "\t\"pipe_parallel_size\": 1,\n",
        "\t\"model_parallel_size\": 1,\n",
        "\n",
        "// add tokenizer info\n",
        "\"tokenizer_type\": \"HFTokenizer\",\n",
        "\"vocab_file\": \"data/tokenizer.json\",\n",
        "\"merge_file\": \"data/merges.txt\",\n",
        "\n",
        "// choose iteration size you want\n",
        "// train_iters and lr_decay_iters should be the same\n",
        "// checkpoint factor size you want\n",
        "\"train_iters\": 1000,\n",
        "\"lr_decay_iters\": 1000,\n",
        "\"distributed_backend\": \"nccl\",\n",
        "\"lr_decay_style\": \"cosine\",\n",
        "\"warmup\": 0.01,\n",
        "\"checkpoint_factor\": 500,\n",
        "\"eval_interval\": 100000,\n",
        "\"eval_iters\": 10,\n",
        "}\n",
        "```\n"
      ]
    },
    {
      "cell_type": "markdown",
      "metadata": {
        "id": "f-sAU78v5Sk3"
      },
      "source": [
        "### Parameter explaination\n",
        "- **pipe_parallel_size**: number of pipeline parallel stages, has to do with deepspeed / pipeline parallel is partitioning the layers of a model into stages that can be processed in parallel, improves memory and compute efficiency\n",
        "- **model_parallel_size**: size of the model parallelism, has to do with Megatron-LM / model parallism is splitting model across multiple devices\n",
        "- **tokenizer_type**: choose between ['GPT2BPETokenizer', 'HFTokenizer', 'HFGPT2Tokenizer', 'SPMTokenizer', 'CharLevelTokenizer', 'TiktokenTokenizer']\n",
        "- **merge_file**: use only if you have merge.txt file\n",
        "- **train_iters**: number of iterations to run for training\n",
        "- **lr_decay_iters**: number of iterations to decay learning rate over / after every n training iterations, learning rate is adjusted, default is train_iters\n",
        "- **lr_decay_style**: learning rate decay function, choose between 'constant', 'linear', 'cosine', 'exponential'\n",
        "- **warmup**: percentage of total iterations to warmup on, starting with a small learning rate and gradually increasing it during the training\n",
        "- **checkpoint_factor**: choose between ‘log’ or ‘linear\n",
        "    - log: checkpoint will be saved square of the number\n",
        "    - linear: checkpoint will be saved multiplication of the number\n",
        "- **eval_interval**: interval between running evaluation on validation set\n",
        "- **eval_iters**: number of iterations to run for evaluation validation/test for"
      ]
    },
    {
      "cell_type": "markdown",
      "metadata": {
        "id": "aHfD7SnD5sGJ"
      },
      "source": [
        "## Start Training"
      ]
    },
    {
      "cell_type": "code",
      "execution_count": null,
      "metadata": {
        "id": "1iO1MXPrZfzf"
      },
      "outputs": [],
      "source": [
        "!python ./deepy.py train.py -d configs your_chosen_parameter_size.yml local_setup.yml"
      ]
    },
    {
      "cell_type": "markdown",
      "metadata": {
        "id": "OqwSx_Mz5x9_"
      },
      "source": [
        "# Convert Model Into Huggingface Format"
      ]
    },
    {
      "cell_type": "code",
      "execution_count": null,
      "metadata": {
        "id": "UmiVlDoV0J_q"
      },
      "outputs": [],
      "source": [
        "!python3 ./tools/ckpts/convert_module_to_hf.py \\\n",
        "            --input_dir ./checkpoints/global_your_checkpoint \\\n",
        "            --config_file ./configs/your_chosen_parameter_size.yml \\\n",
        "            --output_dir GPT-NeoX-pretrain"
      ]
    },
    {
      "cell_type": "markdown",
      "metadata": {
        "id": "GWhj7Ws86WHI"
      },
      "source": [
        "# Test Pretrained Model"
      ]
    },
    {
      "cell_type": "code",
      "execution_count": null,
      "metadata": {
        "id": "bh6Xp2DUJC8l"
      },
      "outputs": [],
      "source": [
        "import torch\n",
        "import argparse\n",
        "from transformers import AutoTokenizer, AutoModelForCausalLM\n",
        "\n",
        "prompt = \"Hello this is\"\n",
        "\n",
        "tokenizer = AutoTokenizer.from_pretrained(\"GPT-NeoX-pretrain\")\n",
        "model = AutoModelForCausalLM.from_pretrained(\"GPT-NeoX-pretrain\")\n",
        "\n",
        "with torch.no_grad():\n",
        "  tokens = tokenizer.encode(prompt, return_tensors='pt').to(device='cuda', non_blocking=True)\n",
        "  gen_tokens = model.generate(tokens, do_sample=True, max_length=500)\n",
        "  generated = tokenizer.batch_decode(gen_tokens)[0]\n",
        "\n",
        "print(generated)"
      ]
    },
    {
      "cell_type": "markdown",
      "metadata": {
        "id": "ilMt1TqA6dUF"
      },
      "source": [
        "# Upload To Huggingface"
      ]
    },
    {
      "cell_type": "code",
      "execution_count": null,
      "metadata": {
        "id": "ZEFCjGgE6c3l"
      },
      "outputs": [],
      "source": [
        "import torch\n",
        "import argparse\n",
        "from transformers import AutoTokenizer, AutoModelForCausalLM\n",
        "\n",
        "tokenizer = AutoTokenizer.from_pretrained(\"GPT-NeoX-pretrain\")\n",
        "model = AutoModelForCausalLM.from_pretrained(\"GPT-NeoX-pretrain\")\n",
        "\n",
        "tokenizer.push_to_hub(huggingface_path)\n",
        "model.push_to_hub(huggingface_path)"
      ]
    }
  ],
  "metadata": {
    "accelerator": "GPU",
    "colab": {
      "gpuType": "T4",
      "provenance": []
    },
    "kernelspec": {
      "display_name": "Python 3",
      "name": "python3"
    },
    "language_info": {
      "name": "python"
    }
  },
  "nbformat": 4,
  "nbformat_minor": 0
}

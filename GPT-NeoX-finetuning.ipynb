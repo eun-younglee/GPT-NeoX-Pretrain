{
  "cells": [
    {
      "cell_type": "markdown",
      "source": [
        "# Install datasets\n",
        "Restart runtime after installing libraries."
      ],
      "metadata": {
        "id": "N3Gj65LZeUE7"
      },
      "id": "N3Gj65LZeUE7"
    },
    {
      "cell_type": "code",
      "source": [
        "!pip install datasets\n",
        "!pip install transformers\n",
        "!pip install accelerate"
      ],
      "metadata": {
        "colab": {
          "base_uri": "https://localhost:8080/"
        },
        "id": "J-kn_mVreWZx",
        "outputId": "4252dfb9-6612-4627-a0ed-8938cf6b3dfd"
      },
      "id": "J-kn_mVreWZx",
      "execution_count": 1,
      "outputs": [
        {
          "output_type": "stream",
          "name": "stdout",
          "text": [
            "Requirement already satisfied: datasets in /usr/local/lib/python3.10/dist-packages (2.15.0)\n",
            "Requirement already satisfied: numpy>=1.17 in /usr/local/lib/python3.10/dist-packages (from datasets) (1.23.5)\n",
            "Requirement already satisfied: pyarrow>=8.0.0 in /usr/local/lib/python3.10/dist-packages (from datasets) (9.0.0)\n",
            "Requirement already satisfied: pyarrow-hotfix in /usr/local/lib/python3.10/dist-packages (from datasets) (0.6)\n",
            "Requirement already satisfied: dill<0.3.8,>=0.3.0 in /usr/local/lib/python3.10/dist-packages (from datasets) (0.3.7)\n",
            "Requirement already satisfied: pandas in /usr/local/lib/python3.10/dist-packages (from datasets) (1.5.3)\n",
            "Requirement already satisfied: requests>=2.19.0 in /usr/local/lib/python3.10/dist-packages (from datasets) (2.31.0)\n",
            "Requirement already satisfied: tqdm>=4.62.1 in /usr/local/lib/python3.10/dist-packages (from datasets) (4.66.1)\n",
            "Requirement already satisfied: xxhash in /usr/local/lib/python3.10/dist-packages (from datasets) (3.4.1)\n",
            "Requirement already satisfied: multiprocess in /usr/local/lib/python3.10/dist-packages (from datasets) (0.70.15)\n",
            "Requirement already satisfied: fsspec[http]<=2023.10.0,>=2023.1.0 in /usr/local/lib/python3.10/dist-packages (from datasets) (2023.6.0)\n",
            "Requirement already satisfied: aiohttp in /usr/local/lib/python3.10/dist-packages (from datasets) (3.9.1)\n",
            "Requirement already satisfied: huggingface-hub>=0.18.0 in /usr/local/lib/python3.10/dist-packages (from datasets) (0.19.4)\n",
            "Requirement already satisfied: packaging in /usr/local/lib/python3.10/dist-packages (from datasets) (23.2)\n",
            "Requirement already satisfied: pyyaml>=5.1 in /usr/local/lib/python3.10/dist-packages (from datasets) (6.0.1)\n",
            "Requirement already satisfied: attrs>=17.3.0 in /usr/local/lib/python3.10/dist-packages (from aiohttp->datasets) (23.1.0)\n",
            "Requirement already satisfied: multidict<7.0,>=4.5 in /usr/local/lib/python3.10/dist-packages (from aiohttp->datasets) (6.0.4)\n",
            "Requirement already satisfied: yarl<2.0,>=1.0 in /usr/local/lib/python3.10/dist-packages (from aiohttp->datasets) (1.9.3)\n",
            "Requirement already satisfied: frozenlist>=1.1.1 in /usr/local/lib/python3.10/dist-packages (from aiohttp->datasets) (1.4.0)\n",
            "Requirement already satisfied: aiosignal>=1.1.2 in /usr/local/lib/python3.10/dist-packages (from aiohttp->datasets) (1.3.1)\n",
            "Requirement already satisfied: async-timeout<5.0,>=4.0 in /usr/local/lib/python3.10/dist-packages (from aiohttp->datasets) (4.0.3)\n",
            "Requirement already satisfied: filelock in /usr/local/lib/python3.10/dist-packages (from huggingface-hub>=0.18.0->datasets) (3.13.1)\n",
            "Requirement already satisfied: typing-extensions>=3.7.4.3 in /usr/local/lib/python3.10/dist-packages (from huggingface-hub>=0.18.0->datasets) (4.5.0)\n",
            "Requirement already satisfied: charset-normalizer<4,>=2 in /usr/local/lib/python3.10/dist-packages (from requests>=2.19.0->datasets) (3.3.2)\n",
            "Requirement already satisfied: idna<4,>=2.5 in /usr/local/lib/python3.10/dist-packages (from requests>=2.19.0->datasets) (3.6)\n",
            "Requirement already satisfied: urllib3<3,>=1.21.1 in /usr/local/lib/python3.10/dist-packages (from requests>=2.19.0->datasets) (2.0.7)\n",
            "Requirement already satisfied: certifi>=2017.4.17 in /usr/local/lib/python3.10/dist-packages (from requests>=2.19.0->datasets) (2023.11.17)\n",
            "Requirement already satisfied: python-dateutil>=2.8.1 in /usr/local/lib/python3.10/dist-packages (from pandas->datasets) (2.8.2)\n",
            "Requirement already satisfied: pytz>=2020.1 in /usr/local/lib/python3.10/dist-packages (from pandas->datasets) (2023.3.post1)\n",
            "Requirement already satisfied: six>=1.5 in /usr/local/lib/python3.10/dist-packages (from python-dateutil>=2.8.1->pandas->datasets) (1.16.0)\n",
            "Requirement already satisfied: transformers in /usr/local/lib/python3.10/dist-packages (4.35.2)\n",
            "Requirement already satisfied: filelock in /usr/local/lib/python3.10/dist-packages (from transformers) (3.13.1)\n",
            "Requirement already satisfied: huggingface-hub<1.0,>=0.16.4 in /usr/local/lib/python3.10/dist-packages (from transformers) (0.19.4)\n",
            "Requirement already satisfied: numpy>=1.17 in /usr/local/lib/python3.10/dist-packages (from transformers) (1.23.5)\n",
            "Requirement already satisfied: packaging>=20.0 in /usr/local/lib/python3.10/dist-packages (from transformers) (23.2)\n",
            "Requirement already satisfied: pyyaml>=5.1 in /usr/local/lib/python3.10/dist-packages (from transformers) (6.0.1)\n",
            "Requirement already satisfied: regex!=2019.12.17 in /usr/local/lib/python3.10/dist-packages (from transformers) (2023.6.3)\n",
            "Requirement already satisfied: requests in /usr/local/lib/python3.10/dist-packages (from transformers) (2.31.0)\n",
            "Requirement already satisfied: tokenizers<0.19,>=0.14 in /usr/local/lib/python3.10/dist-packages (from transformers) (0.15.0)\n",
            "Requirement already satisfied: safetensors>=0.3.1 in /usr/local/lib/python3.10/dist-packages (from transformers) (0.4.1)\n",
            "Requirement already satisfied: tqdm>=4.27 in /usr/local/lib/python3.10/dist-packages (from transformers) (4.66.1)\n",
            "Requirement already satisfied: fsspec>=2023.5.0 in /usr/local/lib/python3.10/dist-packages (from huggingface-hub<1.0,>=0.16.4->transformers) (2023.6.0)\n",
            "Requirement already satisfied: typing-extensions>=3.7.4.3 in /usr/local/lib/python3.10/dist-packages (from huggingface-hub<1.0,>=0.16.4->transformers) (4.5.0)\n",
            "Requirement already satisfied: charset-normalizer<4,>=2 in /usr/local/lib/python3.10/dist-packages (from requests->transformers) (3.3.2)\n",
            "Requirement already satisfied: idna<4,>=2.5 in /usr/local/lib/python3.10/dist-packages (from requests->transformers) (3.6)\n",
            "Requirement already satisfied: urllib3<3,>=1.21.1 in /usr/local/lib/python3.10/dist-packages (from requests->transformers) (2.0.7)\n",
            "Requirement already satisfied: certifi>=2017.4.17 in /usr/local/lib/python3.10/dist-packages (from requests->transformers) (2023.11.17)\n",
            "Requirement already satisfied: accelerate in /usr/local/lib/python3.10/dist-packages (0.25.0)\n",
            "Requirement already satisfied: numpy>=1.17 in /usr/local/lib/python3.10/dist-packages (from accelerate) (1.23.5)\n",
            "Requirement already satisfied: packaging>=20.0 in /usr/local/lib/python3.10/dist-packages (from accelerate) (23.2)\n",
            "Requirement already satisfied: psutil in /usr/local/lib/python3.10/dist-packages (from accelerate) (5.9.5)\n",
            "Requirement already satisfied: pyyaml in /usr/local/lib/python3.10/dist-packages (from accelerate) (6.0.1)\n",
            "Requirement already satisfied: torch>=1.10.0 in /usr/local/lib/python3.10/dist-packages (from accelerate) (2.1.0+cu118)\n",
            "Requirement already satisfied: huggingface-hub in /usr/local/lib/python3.10/dist-packages (from accelerate) (0.19.4)\n",
            "Requirement already satisfied: safetensors>=0.3.1 in /usr/local/lib/python3.10/dist-packages (from accelerate) (0.4.1)\n",
            "Requirement already satisfied: filelock in /usr/local/lib/python3.10/dist-packages (from torch>=1.10.0->accelerate) (3.13.1)\n",
            "Requirement already satisfied: typing-extensions in /usr/local/lib/python3.10/dist-packages (from torch>=1.10.0->accelerate) (4.5.0)\n",
            "Requirement already satisfied: sympy in /usr/local/lib/python3.10/dist-packages (from torch>=1.10.0->accelerate) (1.12)\n",
            "Requirement already satisfied: networkx in /usr/local/lib/python3.10/dist-packages (from torch>=1.10.0->accelerate) (3.2.1)\n",
            "Requirement already satisfied: jinja2 in /usr/local/lib/python3.10/dist-packages (from torch>=1.10.0->accelerate) (3.1.2)\n",
            "Requirement already satisfied: fsspec in /usr/local/lib/python3.10/dist-packages (from torch>=1.10.0->accelerate) (2023.6.0)\n",
            "Requirement already satisfied: triton==2.1.0 in /usr/local/lib/python3.10/dist-packages (from torch>=1.10.0->accelerate) (2.1.0)\n",
            "Requirement already satisfied: requests in /usr/local/lib/python3.10/dist-packages (from huggingface-hub->accelerate) (2.31.0)\n",
            "Requirement already satisfied: tqdm>=4.42.1 in /usr/local/lib/python3.10/dist-packages (from huggingface-hub->accelerate) (4.66.1)\n",
            "Requirement already satisfied: MarkupSafe>=2.0 in /usr/local/lib/python3.10/dist-packages (from jinja2->torch>=1.10.0->accelerate) (2.1.3)\n",
            "Requirement already satisfied: charset-normalizer<4,>=2 in /usr/local/lib/python3.10/dist-packages (from requests->huggingface-hub->accelerate) (3.3.2)\n",
            "Requirement already satisfied: idna<4,>=2.5 in /usr/local/lib/python3.10/dist-packages (from requests->huggingface-hub->accelerate) (3.6)\n",
            "Requirement already satisfied: urllib3<3,>=1.21.1 in /usr/local/lib/python3.10/dist-packages (from requests->huggingface-hub->accelerate) (2.0.7)\n",
            "Requirement already satisfied: certifi>=2017.4.17 in /usr/local/lib/python3.10/dist-packages (from requests->huggingface-hub->accelerate) (2023.11.17)\n",
            "Requirement already satisfied: mpmath>=0.19 in /usr/local/lib/python3.10/dist-packages (from sympy->torch>=1.10.0->accelerate) (1.3.0)\n"
          ]
        }
      ]
    },
    {
      "cell_type": "markdown",
      "id": "d5f8e70a",
      "metadata": {
        "id": "d5f8e70a"
      },
      "source": [
        "# Download dataset and model\n",
        "Download dataset from huggingface or get local dataset"
      ]
    },
    {
      "cell_type": "code",
      "execution_count": 2,
      "id": "61b9bb36-d602-4f09-af76-942271cb2253",
      "metadata": {
        "scrolled": true,
        "id": "61b9bb36-d602-4f09-af76-942271cb2253"
      },
      "outputs": [],
      "source": [
        "# huggingface dataset\n",
        "from datasets import load_dataset\n",
        "dataset = load_dataset(\"tatsu-lab/alpaca\")"
      ]
    },
    {
      "cell_type": "code",
      "execution_count": null,
      "id": "946fd81f-0dbe-4868-b691-1a35b4f2741a",
      "metadata": {
        "id": "946fd81f-0dbe-4868-b691-1a35b4f2741a",
        "outputId": "aff6f47f-6d9f-4719-d624-447f99b4f808"
      },
      "outputs": [
        {
          "data": {
            "text/html": [
              "<div>\n",
              "<style scoped>\n",
              "    .dataframe tbody tr th:only-of-type {\n",
              "        vertical-align: middle;\n",
              "    }\n",
              "\n",
              "    .dataframe tbody tr th {\n",
              "        vertical-align: top;\n",
              "    }\n",
              "\n",
              "    .dataframe thead th {\n",
              "        text-align: right;\n",
              "    }\n",
              "</style>\n",
              "<table border=\"1\" class=\"dataframe\">\n",
              "  <thead>\n",
              "    <tr style=\"text-align: right;\">\n",
              "      <th></th>\n",
              "      <th>Unnamed: 0</th>\n",
              "      <th>question</th>\n",
              "      <th>answer</th>\n",
              "      <th>source</th>\n",
              "    </tr>\n",
              "  </thead>\n",
              "  <tbody>\n",
              "    <tr>\n",
              "      <th>0</th>\n",
              "      <td>0</td>\n",
              "      <td>Đưa ra ba lời khuyên để duy trì sức khoẻ.</td>\n",
              "      <td>1. Áp dụng chế độ ăn cân bằng, đảm bảo ăn nhi...</td>\n",
              "      <td>alpaca vi</td>\n",
              "    </tr>\n",
              "    <tr>\n",
              "      <th>1</th>\n",
              "      <td>1</td>\n",
              "      <td>Ba màu cơ bản là gì?</td>\n",
              "      <td>Ba màu cơ bản là đỏ, xanh dương và vàng.</td>\n",
              "      <td>alpaca vi</td>\n",
              "    </tr>\n",
              "    <tr>\n",
              "      <th>2</th>\n",
              "      <td>2</td>\n",
              "      <td>Mô tả cấu trúc của một nguyên tử.</td>\n",
              "      <td>Một nguyên tử được tạo thành từ một hạt nhân,...</td>\n",
              "      <td>alpaca vi</td>\n",
              "    </tr>\n",
              "    <tr>\n",
              "      <th>3</th>\n",
              "      <td>3</td>\n",
              "      <td>Làm thế nào để giảm ô nhiễm không khí?</td>\n",
              "      <td>Có một số cách để giảm ô nhiễm không khí, chẳ...</td>\n",
              "      <td>alpaca vi</td>\n",
              "    </tr>\n",
              "    <tr>\n",
              "      <th>4</th>\n",
              "      <td>4</td>\n",
              "      <td>Giả vờ là giám đốc dự án của một công ty xây ...</td>\n",
              "      <td>Khi còn là giám đốc dự án tại một công ty xây...</td>\n",
              "      <td>alpaca vi</td>\n",
              "    </tr>\n",
              "    <tr>\n",
              "      <th>...</th>\n",
              "      <td>...</td>\n",
              "      <td>...</td>\n",
              "      <td>...</td>\n",
              "      <td>...</td>\n",
              "    </tr>\n",
              "    <tr>\n",
              "      <th>30702</th>\n",
              "      <td>30702</td>\n",
              "      <td>Ai Là Người Phát Minh Ra Biến Áp Điện?</td>\n",
              "      <td>Biến Áp Điện Được Phát Minh Bởi Người Anh Tên ...</td>\n",
              "      <td>chunk_26053</td>\n",
              "    </tr>\n",
              "    <tr>\n",
              "      <th>30703</th>\n",
              "      <td>30703</td>\n",
              "      <td>Người Nào Đã Tìm Ra Dụng Cụ Bằng Đá Đầu Tiên?</td>\n",
              "      <td>Người Neanderthal Đã Tìm Ra Dụng Cụ Bằng Đá Đầ...</td>\n",
              "      <td>chunk_21813</td>\n",
              "    </tr>\n",
              "    <tr>\n",
              "      <th>30704</th>\n",
              "      <td>30704</td>\n",
              "      <td>Ai Là Người Đã Viết Bài Báo Được Trích Dẫn?</td>\n",
              "      <td>Người Viết Bài Báo Được Trích Dẫn Là Mark Smith.</td>\n",
              "      <td>chunk_22450</td>\n",
              "    </tr>\n",
              "    <tr>\n",
              "      <th>30705</th>\n",
              "      <td>30705</td>\n",
              "      <td>Người Nào Đã Viết Cuốn Sách 'Tiếng Chim Hót Tr...</td>\n",
              "      <td>Người Viết Cuốn Sách 'Tiếng Chim Hót Trong Bụi...</td>\n",
              "      <td>chunk_37786</td>\n",
              "    </tr>\n",
              "    <tr>\n",
              "      <th>30706</th>\n",
              "      <td>30706</td>\n",
              "      <td>Người Nào Đã Phát Hiện Ra Thuyền Trưởng Amerig...</td>\n",
              "      <td>Thuyền Trưởng Amerigo Vespucci Đã Phát Hiện Ra...</td>\n",
              "      <td>chunk_8063</td>\n",
              "    </tr>\n",
              "  </tbody>\n",
              "</table>\n",
              "<p>30707 rows × 4 columns</p>\n",
              "</div>"
            ],
            "text/plain": [
              "       Unnamed: 0                                           question  \\\n",
              "0               0          Đưa ra ba lời khuyên để duy trì sức khoẻ.   \n",
              "1               1                               Ba màu cơ bản là gì?   \n",
              "2               2                  Mô tả cấu trúc của một nguyên tử.   \n",
              "3               3             Làm thế nào để giảm ô nhiễm không khí?   \n",
              "4               4   Giả vờ là giám đốc dự án của một công ty xây ...   \n",
              "...           ...                                                ...   \n",
              "30702       30702             Ai Là Người Phát Minh Ra Biến Áp Điện?   \n",
              "30703       30703      Người Nào Đã Tìm Ra Dụng Cụ Bằng Đá Đầu Tiên?   \n",
              "30704       30704        Ai Là Người Đã Viết Bài Báo Được Trích Dẫn?   \n",
              "30705       30705  Người Nào Đã Viết Cuốn Sách 'Tiếng Chim Hót Tr...   \n",
              "30706       30706  Người Nào Đã Phát Hiện Ra Thuyền Trưởng Amerig...   \n",
              "\n",
              "                                                  answer       source  \n",
              "0       1. Áp dụng chế độ ăn cân bằng, đảm bảo ăn nhi...    alpaca vi  \n",
              "1               Ba màu cơ bản là đỏ, xanh dương và vàng.    alpaca vi  \n",
              "2       Một nguyên tử được tạo thành từ một hạt nhân,...    alpaca vi  \n",
              "3       Có một số cách để giảm ô nhiễm không khí, chẳ...    alpaca vi  \n",
              "4       Khi còn là giám đốc dự án tại một công ty xây...    alpaca vi  \n",
              "...                                                  ...          ...  \n",
              "30702  Biến Áp Điện Được Phát Minh Bởi Người Anh Tên ...  chunk_26053  \n",
              "30703  Người Neanderthal Đã Tìm Ra Dụng Cụ Bằng Đá Đầ...  chunk_21813  \n",
              "30704   Người Viết Bài Báo Được Trích Dẫn Là Mark Smith.  chunk_22450  \n",
              "30705  Người Viết Cuốn Sách 'Tiếng Chim Hót Trong Bụi...  chunk_37786  \n",
              "30706  Thuyền Trưởng Amerigo Vespucci Đã Phát Hiện Ra...   chunk_8063  \n",
              "\n",
              "[30707 rows x 4 columns]"
            ]
          },
          "execution_count": 2,
          "metadata": {},
          "output_type": "execute_result"
        }
      ],
      "source": [
        "dataset"
      ]
    },
    {
      "cell_type": "markdown",
      "source": [
        "# Download model"
      ],
      "metadata": {
        "id": "nouqLqOvexka"
      },
      "id": "nouqLqOvexka"
    },
    {
      "cell_type": "code",
      "execution_count": 3,
      "id": "7f98aca9-3ee9-4c72-a13d-c7d6978ae435",
      "metadata": {
        "colab": {
          "base_uri": "https://localhost:8080/",
          "height": 67,
          "referenced_widgets": [
            "5f64bf6a50fe4a3e8b06833a034b7589",
            "5c885597d2804ec798d21cc6cf6cfc23",
            "75e77b0b616e4208aaff21f09fd08056",
            "021cc04dcaea4684b7f25e019e52d7a8",
            "1fdfd16355354fd5a61e7ba93da2a8be",
            "bba4859d442f4fa69fb17f009f3f83b1",
            "80a1fa4029484dbeb1da3d7f445b5500",
            "c3cb96f47d2f45aab4a5249d316dd237",
            "474a0f6075514f4eb938354c75cb51ab",
            "3deae4de694a46f8a8e5fb844685b935",
            "e937bb00a17540a6b3143313090051ea"
          ]
        },
        "id": "7f98aca9-3ee9-4c72-a13d-c7d6978ae435",
        "outputId": "153ee794-6356-4980-a540-8f6ea781c63b"
      },
      "outputs": [
        {
          "output_type": "display_data",
          "data": {
            "text/plain": [
              "model.safetensors:   0%|          | 0.00/526M [00:00<?, ?B/s]"
            ],
            "application/vnd.jupyter.widget-view+json": {
              "version_major": 2,
              "version_minor": 0,
              "model_id": "5f64bf6a50fe4a3e8b06833a034b7589"
            }
          },
          "metadata": {}
        },
        {
          "output_type": "execute_result",
          "data": {
            "text/plain": [
              "Embedding(50259, 768)"
            ]
          },
          "metadata": {},
          "execution_count": 3
        }
      ],
      "source": [
        "import pandas as pd\n",
        "import torch\n",
        "from torch.utils.data import Dataset, random_split\n",
        "from transformers import AutoTokenizer, TrainingArguments, Trainer, AutoModelForCausalLM, IntervalStrategy\n",
        "\n",
        "torch.manual_seed(42)\n",
        "output_dir = \"EleutherAI/gpt-neo-125m\"\n",
        "tokenizer = AutoTokenizer.from_pretrained(output_dir, bos_token='<|startoftext|>',\n",
        "                                          eos_token='<|endoftext|>', pad_token='<|pad|>')\n",
        "model = AutoModelForCausalLM.from_pretrained(output_dir, low_cpu_mem_usage=True, device_map=\"auto\") # .cuda() torch_dtype=torch.float16,\n",
        "model.resize_token_embeddings(len(tokenizer))"
      ]
    },
    {
      "cell_type": "markdown",
      "id": "d2d3f31f",
      "metadata": {
        "id": "d2d3f31f"
      },
      "source": [
        "# Preprocess"
      ]
    },
    {
      "cell_type": "code",
      "execution_count": 6,
      "id": "a04d1a20-b06e-4bd8-abca-70d0500f1670",
      "metadata": {
        "colab": {
          "base_uri": "https://localhost:8080/",
          "height": 333
        },
        "id": "a04d1a20-b06e-4bd8-abca-70d0500f1670",
        "outputId": "471f8736-7bd2-4b11-975c-4f9a7b1ab354"
      },
      "outputs": [
        {
          "output_type": "error",
          "ename": "KeyError",
          "evalue": "ignored",
          "traceback": [
            "\u001b[0;31m---------------------------------------------------------------------------\u001b[0m",
            "\u001b[0;31mKeyError\u001b[0m                                  Traceback (most recent call last)",
            "\u001b[0;32m<ipython-input-6-b27df0326637>\u001b[0m in \u001b[0;36m<cell line: 1>\u001b[0;34m()\u001b[0m\n\u001b[0;32m----> 1\u001b[0;31m \u001b[0mdataset\u001b[0m \u001b[0;34m=\u001b[0m \u001b[0mdataset\u001b[0m\u001b[0;34m[\u001b[0m\u001b[0;34m'train'\u001b[0m\u001b[0;34m]\u001b[0m\u001b[0;34m\u001b[0m\u001b[0;34m\u001b[0m\u001b[0m\n\u001b[0m",
            "\u001b[0;32m/usr/local/lib/python3.10/dist-packages/datasets/arrow_dataset.py\u001b[0m in \u001b[0;36m__getitem__\u001b[0;34m(self, key)\u001b[0m\n\u001b[1;32m   2793\u001b[0m     \u001b[0;32mdef\u001b[0m \u001b[0m__getitem__\u001b[0m\u001b[0;34m(\u001b[0m\u001b[0mself\u001b[0m\u001b[0;34m,\u001b[0m \u001b[0mkey\u001b[0m\u001b[0;34m)\u001b[0m\u001b[0;34m:\u001b[0m  \u001b[0;31m# noqa: F811\u001b[0m\u001b[0;34m\u001b[0m\u001b[0;34m\u001b[0m\u001b[0m\n\u001b[1;32m   2794\u001b[0m         \u001b[0;34m\"\"\"Can be used to index columns (by string names) or rows (by integer index or iterable of indices or bools).\"\"\"\u001b[0m\u001b[0;34m\u001b[0m\u001b[0;34m\u001b[0m\u001b[0m\n\u001b[0;32m-> 2795\u001b[0;31m         \u001b[0;32mreturn\u001b[0m \u001b[0mself\u001b[0m\u001b[0;34m.\u001b[0m\u001b[0m_getitem\u001b[0m\u001b[0;34m(\u001b[0m\u001b[0mkey\u001b[0m\u001b[0;34m)\u001b[0m\u001b[0;34m\u001b[0m\u001b[0;34m\u001b[0m\u001b[0m\n\u001b[0m\u001b[1;32m   2796\u001b[0m \u001b[0;34m\u001b[0m\u001b[0m\n\u001b[1;32m   2797\u001b[0m     \u001b[0;32mdef\u001b[0m \u001b[0m__getitems__\u001b[0m\u001b[0;34m(\u001b[0m\u001b[0mself\u001b[0m\u001b[0;34m,\u001b[0m \u001b[0mkeys\u001b[0m\u001b[0;34m:\u001b[0m \u001b[0mList\u001b[0m\u001b[0;34m)\u001b[0m \u001b[0;34m->\u001b[0m \u001b[0mList\u001b[0m\u001b[0;34m:\u001b[0m\u001b[0;34m\u001b[0m\u001b[0;34m\u001b[0m\u001b[0m\n",
            "\u001b[0;32m/usr/local/lib/python3.10/dist-packages/datasets/arrow_dataset.py\u001b[0m in \u001b[0;36m_getitem\u001b[0;34m(self, key, **kwargs)\u001b[0m\n\u001b[1;32m   2777\u001b[0m         \u001b[0mformat_kwargs\u001b[0m \u001b[0;34m=\u001b[0m \u001b[0mformat_kwargs\u001b[0m \u001b[0;32mif\u001b[0m \u001b[0mformat_kwargs\u001b[0m \u001b[0;32mis\u001b[0m \u001b[0;32mnot\u001b[0m \u001b[0;32mNone\u001b[0m \u001b[0;32melse\u001b[0m \u001b[0;34m{\u001b[0m\u001b[0;34m}\u001b[0m\u001b[0;34m\u001b[0m\u001b[0;34m\u001b[0m\u001b[0m\n\u001b[1;32m   2778\u001b[0m         \u001b[0mformatter\u001b[0m \u001b[0;34m=\u001b[0m \u001b[0mget_formatter\u001b[0m\u001b[0;34m(\u001b[0m\u001b[0mformat_type\u001b[0m\u001b[0;34m,\u001b[0m \u001b[0mfeatures\u001b[0m\u001b[0;34m=\u001b[0m\u001b[0mself\u001b[0m\u001b[0;34m.\u001b[0m\u001b[0m_info\u001b[0m\u001b[0;34m.\u001b[0m\u001b[0mfeatures\u001b[0m\u001b[0;34m,\u001b[0m \u001b[0;34m**\u001b[0m\u001b[0mformat_kwargs\u001b[0m\u001b[0;34m)\u001b[0m\u001b[0;34m\u001b[0m\u001b[0;34m\u001b[0m\u001b[0m\n\u001b[0;32m-> 2779\u001b[0;31m         \u001b[0mpa_subtable\u001b[0m \u001b[0;34m=\u001b[0m \u001b[0mquery_table\u001b[0m\u001b[0;34m(\u001b[0m\u001b[0mself\u001b[0m\u001b[0;34m.\u001b[0m\u001b[0m_data\u001b[0m\u001b[0;34m,\u001b[0m \u001b[0mkey\u001b[0m\u001b[0;34m,\u001b[0m \u001b[0mindices\u001b[0m\u001b[0;34m=\u001b[0m\u001b[0mself\u001b[0m\u001b[0;34m.\u001b[0m\u001b[0m_indices\u001b[0m \u001b[0;32mif\u001b[0m \u001b[0mself\u001b[0m\u001b[0;34m.\u001b[0m\u001b[0m_indices\u001b[0m \u001b[0;32mis\u001b[0m \u001b[0;32mnot\u001b[0m \u001b[0;32mNone\u001b[0m \u001b[0;32melse\u001b[0m \u001b[0;32mNone\u001b[0m\u001b[0;34m)\u001b[0m\u001b[0;34m\u001b[0m\u001b[0;34m\u001b[0m\u001b[0m\n\u001b[0m\u001b[1;32m   2780\u001b[0m         formatted_output = format_table(\n\u001b[1;32m   2781\u001b[0m             \u001b[0mpa_subtable\u001b[0m\u001b[0;34m,\u001b[0m \u001b[0mkey\u001b[0m\u001b[0;34m,\u001b[0m \u001b[0mformatter\u001b[0m\u001b[0;34m=\u001b[0m\u001b[0mformatter\u001b[0m\u001b[0;34m,\u001b[0m \u001b[0mformat_columns\u001b[0m\u001b[0;34m=\u001b[0m\u001b[0mformat_columns\u001b[0m\u001b[0;34m,\u001b[0m \u001b[0moutput_all_columns\u001b[0m\u001b[0;34m=\u001b[0m\u001b[0moutput_all_columns\u001b[0m\u001b[0;34m\u001b[0m\u001b[0;34m\u001b[0m\u001b[0m\n",
            "\u001b[0;32m/usr/local/lib/python3.10/dist-packages/datasets/formatting/formatting.py\u001b[0m in \u001b[0;36mquery_table\u001b[0;34m(table, key, indices)\u001b[0m\n\u001b[1;32m    578\u001b[0m         \u001b[0m_raise_bad_key_type\u001b[0m\u001b[0;34m(\u001b[0m\u001b[0mkey\u001b[0m\u001b[0;34m)\u001b[0m\u001b[0;34m\u001b[0m\u001b[0;34m\u001b[0m\u001b[0m\n\u001b[1;32m    579\u001b[0m     \u001b[0;32mif\u001b[0m \u001b[0misinstance\u001b[0m\u001b[0;34m(\u001b[0m\u001b[0mkey\u001b[0m\u001b[0;34m,\u001b[0m \u001b[0mstr\u001b[0m\u001b[0;34m)\u001b[0m\u001b[0;34m:\u001b[0m\u001b[0;34m\u001b[0m\u001b[0;34m\u001b[0m\u001b[0m\n\u001b[0;32m--> 580\u001b[0;31m         \u001b[0m_check_valid_column_key\u001b[0m\u001b[0;34m(\u001b[0m\u001b[0mkey\u001b[0m\u001b[0;34m,\u001b[0m \u001b[0mtable\u001b[0m\u001b[0;34m.\u001b[0m\u001b[0mcolumn_names\u001b[0m\u001b[0;34m)\u001b[0m\u001b[0;34m\u001b[0m\u001b[0;34m\u001b[0m\u001b[0m\n\u001b[0m\u001b[1;32m    581\u001b[0m     \u001b[0;32melse\u001b[0m\u001b[0;34m:\u001b[0m\u001b[0;34m\u001b[0m\u001b[0;34m\u001b[0m\u001b[0m\n\u001b[1;32m    582\u001b[0m         \u001b[0msize\u001b[0m \u001b[0;34m=\u001b[0m \u001b[0mindices\u001b[0m\u001b[0;34m.\u001b[0m\u001b[0mnum_rows\u001b[0m \u001b[0;32mif\u001b[0m \u001b[0mindices\u001b[0m \u001b[0;32mis\u001b[0m \u001b[0;32mnot\u001b[0m \u001b[0;32mNone\u001b[0m \u001b[0;32melse\u001b[0m \u001b[0mtable\u001b[0m\u001b[0;34m.\u001b[0m\u001b[0mnum_rows\u001b[0m\u001b[0;34m\u001b[0m\u001b[0;34m\u001b[0m\u001b[0m\n",
            "\u001b[0;32m/usr/local/lib/python3.10/dist-packages/datasets/formatting/formatting.py\u001b[0m in \u001b[0;36m_check_valid_column_key\u001b[0;34m(key, columns)\u001b[0m\n\u001b[1;32m    518\u001b[0m \u001b[0;32mdef\u001b[0m \u001b[0m_check_valid_column_key\u001b[0m\u001b[0;34m(\u001b[0m\u001b[0mkey\u001b[0m\u001b[0;34m:\u001b[0m \u001b[0mstr\u001b[0m\u001b[0;34m,\u001b[0m \u001b[0mcolumns\u001b[0m\u001b[0;34m:\u001b[0m \u001b[0mList\u001b[0m\u001b[0;34m[\u001b[0m\u001b[0mstr\u001b[0m\u001b[0;34m]\u001b[0m\u001b[0;34m)\u001b[0m \u001b[0;34m->\u001b[0m \u001b[0;32mNone\u001b[0m\u001b[0;34m:\u001b[0m\u001b[0;34m\u001b[0m\u001b[0;34m\u001b[0m\u001b[0m\n\u001b[1;32m    519\u001b[0m     \u001b[0;32mif\u001b[0m \u001b[0mkey\u001b[0m \u001b[0;32mnot\u001b[0m \u001b[0;32min\u001b[0m \u001b[0mcolumns\u001b[0m\u001b[0;34m:\u001b[0m\u001b[0;34m\u001b[0m\u001b[0;34m\u001b[0m\u001b[0m\n\u001b[0;32m--> 520\u001b[0;31m         \u001b[0;32mraise\u001b[0m \u001b[0mKeyError\u001b[0m\u001b[0;34m(\u001b[0m\u001b[0;34mf\"Column {key} not in the dataset. Current columns in the dataset: {columns}\"\u001b[0m\u001b[0;34m)\u001b[0m\u001b[0;34m\u001b[0m\u001b[0;34m\u001b[0m\u001b[0m\n\u001b[0m\u001b[1;32m    521\u001b[0m \u001b[0;34m\u001b[0m\u001b[0m\n\u001b[1;32m    522\u001b[0m \u001b[0;34m\u001b[0m\u001b[0m\n",
            "\u001b[0;31mKeyError\u001b[0m: \"Column train not in the dataset. Current columns in the dataset: ['instruction', 'input', 'output', 'text']\""
          ]
        }
      ],
      "source": [
        "dataset = dataset['train']"
      ]
    },
    {
      "cell_type": "code",
      "source": [
        "data_list = []\n",
        "text = \"Below is an instruction that describes a task, paired with an input that provides further context. Write a response that appropriately completes the request.\"\n",
        "for i in range(50): # len(dataset['instruction'])):\n",
        "    if dataset['input']:\n",
        "        temp = text + \"###Instruction:\" + dataset['instruction'][i] + \"\\n\\n###Input:\" + dataset['input'][i] + \"\\n\\n###Output:\" + dataset['output'][i]\n",
        "    else:\n",
        "        temp = text + \"###Instruction:\" + dataset['instruction'][i] + \"\\n\\n###Output:\" + dataset['output'][i]\n",
        "    data_list.append(temp)"
      ],
      "metadata": {
        "id": "pp0hxKeQggtJ"
      },
      "id": "pp0hxKeQggtJ",
      "execution_count": 19,
      "outputs": []
    },
    {
      "cell_type": "code",
      "execution_count": 20,
      "id": "e0978ad9-7a00-428b-86e8-dfa962a5f694",
      "metadata": {
        "id": "e0978ad9-7a00-428b-86e8-dfa962a5f694"
      },
      "outputs": [],
      "source": [
        "data_list = pd.Series(data_list)"
      ]
    },
    {
      "cell_type": "code",
      "execution_count": 21,
      "id": "520ddb4e-e79c-42b4-9be2-96d56a336fcd",
      "metadata": {
        "colab": {
          "base_uri": "https://localhost:8080/",
          "height": 71
        },
        "id": "520ddb4e-e79c-42b4-9be2-96d56a336fcd",
        "outputId": "c9f677fd-9c3f-4f97-be14-ed75d76ac418"
      },
      "outputs": [
        {
          "output_type": "execute_result",
          "data": {
            "text/plain": [
              "'Below is an instruction that describes a task, paired with an input that provides further context. Write a response that appropriately completes the request.###Instruction:Give three tips for staying healthy.\\n\\n###Input:\\n\\n###Output:1.Eat a balanced diet and make sure to include plenty of fruits and vegetables. \\n2. Exercise regularly to keep your body active and strong. \\n3. Get enough sleep and maintain a consistent sleep schedule.'"
            ],
            "application/vnd.google.colaboratory.intrinsic+json": {
              "type": "string"
            }
          },
          "metadata": {},
          "execution_count": 21
        }
      ],
      "source": [
        "data_list[0]"
      ]
    },
    {
      "cell_type": "code",
      "execution_count": 22,
      "id": "0cbe4d1c-2be3-42bf-b59b-1bd8a15c0214",
      "metadata": {
        "colab": {
          "base_uri": "https://localhost:8080/"
        },
        "id": "0cbe4d1c-2be3-42bf-b59b-1bd8a15c0214",
        "outputId": "7e4e124a-6502-49bc-c8df-171d90a6de65"
      },
      "outputs": [
        {
          "output_type": "execute_result",
          "data": {
            "text/plain": [
              "50"
            ]
          },
          "metadata": {},
          "execution_count": 22
        }
      ],
      "source": [
        "len(data_list)"
      ]
    },
    {
      "cell_type": "code",
      "execution_count": 23,
      "id": "c096bb9b-5515-4181-8aae-486c18672d8d",
      "metadata": {
        "colab": {
          "base_uri": "https://localhost:8080/"
        },
        "id": "c096bb9b-5515-4181-8aae-486c18672d8d",
        "outputId": "a44d9352-4728-454c-8b76-e314648f8adb"
      },
      "outputs": [
        {
          "output_type": "stream",
          "name": "stdout",
          "text": [
            "Max length: 349\n"
          ]
        }
      ],
      "source": [
        "max_length = max([len(tokenizer.encode(e)) for e in data_list])\n",
        "print(\"Max length: {}\".format(max_length))"
      ]
    },
    {
      "cell_type": "code",
      "execution_count": 24,
      "id": "08fda6d8-3a86-4aa5-8fac-755f24b10f51",
      "metadata": {
        "id": "08fda6d8-3a86-4aa5-8fac-755f24b10f51"
      },
      "outputs": [],
      "source": [
        "class MyDataset(Dataset):\n",
        "    def __init__(self, txt_list, tokenizer, max_length):\n",
        "        self.input_ids = []\n",
        "        self.attn_masks = []\n",
        "        self.labels = []\n",
        "        for txt in txt_list:\n",
        "            encodings_dict = tokenizer(f\"<|startoftext|>\"+ txt + \"<|endoftext|>\", truncation=True,\n",
        "                                       max_length=max_length, padding=\"max_length\")\n",
        "            self.input_ids.append(torch.tensor(encodings_dict['input_ids']))\n",
        "            self.attn_masks.append(torch.tensor(encodings_dict['attention_mask']))\n",
        "\n",
        "    def __len__(self):\n",
        "        return len(self.input_ids)\n",
        "\n",
        "    def __getitem__(self, idx):\n",
        "        return self.input_ids[idx], self.attn_masks[idx]"
      ]
    },
    {
      "cell_type": "code",
      "execution_count": 25,
      "id": "5dfe80ec-a1a4-4cba-b2fc-5f6c7d993d86",
      "metadata": {
        "id": "5dfe80ec-a1a4-4cba-b2fc-5f6c7d993d86"
      },
      "outputs": [],
      "source": [
        "mydataset = MyDataset(data_list, tokenizer, max_length = max_length)"
      ]
    },
    {
      "cell_type": "code",
      "execution_count": 26,
      "id": "900d89a0-9721-42ee-a811-e7ed28465586",
      "metadata": {
        "colab": {
          "base_uri": "https://localhost:8080/"
        },
        "id": "900d89a0-9721-42ee-a811-e7ed28465586",
        "outputId": "40e864c4-d66f-44d2-ef89-a69b926c1dad"
      },
      "outputs": [
        {
          "output_type": "execute_result",
          "data": {
            "text/plain": [
              "<__main__.MyDataset at 0x7f5291a34670>"
            ]
          },
          "metadata": {},
          "execution_count": 26
        }
      ],
      "source": [
        "mydataset"
      ]
    },
    {
      "cell_type": "markdown",
      "id": "4c923f0b",
      "metadata": {
        "id": "4c923f0b"
      },
      "source": [
        "# Train"
      ]
    },
    {
      "cell_type": "code",
      "execution_count": 27,
      "id": "93c96e83-75f4-4f27-a422-d90471c810d1",
      "metadata": {
        "id": "93c96e83-75f4-4f27-a422-d90471c810d1"
      },
      "outputs": [],
      "source": [
        "import gc\n",
        "import torch\n",
        "from transformers import DataCollatorForLanguageModeling, AutoConfig, default_data_collator\n",
        "gc.collect()\n",
        "torch.cuda.empty_cache()"
      ]
    },
    {
      "cell_type": "code",
      "execution_count": null,
      "id": "abb86538-c493-42b6-8c1b-9de2c5c4ee5e",
      "metadata": {
        "colab": {
          "base_uri": "https://localhost:8080/",
          "height": 201
        },
        "id": "abb86538-c493-42b6-8c1b-9de2c5c4ee5e",
        "outputId": "a8e21c4e-fadc-47d8-cb8f-81faef0202ac"
      },
      "outputs": [
        {
          "output_type": "display_data",
          "data": {
            "text/plain": [
              "<IPython.core.display.HTML object>"
            ],
            "text/html": [
              "\n",
              "    <div>\n",
              "      \n",
              "      <progress value='16' max='25' style='width:300px; height:20px; vertical-align: middle;'></progress>\n",
              "      [16/25 03:08 < 02:01, 0.07 it/s, Epoch 0.60/1]\n",
              "    </div>\n",
              "    <table border=\"1\" class=\"dataframe\">\n",
              "  <thead>\n",
              " <tr style=\"text-align: left;\">\n",
              "      <th>Step</th>\n",
              "      <th>Training Loss</th>\n",
              "    </tr>\n",
              "  </thead>\n",
              "  <tbody>\n",
              "    <tr>\n",
              "      <td>3</td>\n",
              "      <td>13.546400</td>\n",
              "    </tr>\n",
              "    <tr>\n",
              "      <td>6</td>\n",
              "      <td>21.326500</td>\n",
              "    </tr>\n",
              "    <tr>\n",
              "      <td>9</td>\n",
              "      <td>20.882600</td>\n",
              "    </tr>\n",
              "    <tr>\n",
              "      <td>12</td>\n",
              "      <td>19.904700</td>\n",
              "    </tr>\n",
              "  </tbody>\n",
              "</table><p>"
            ]
          },
          "metadata": {}
        }
      ],
      "source": [
        "training_args = TrainingArguments(\n",
        "    output_dir = \"finetune_save\",\n",
        "    optim=\"adafactor\", # 메모리 사용 감소\n",
        "    num_train_epochs=1,\n",
        "    per_device_train_batch_size=2,\n",
        "    # fp16=True,\n",
        "    learning_rate=5e-5,\n",
        "    logging_strategy=\"steps\",\n",
        "    warmup_steps=3000,\n",
        "    weight_decay=0.01,\n",
        "    logging_steps=0.1,\n",
        "    save_steps=0.06, # 소수점은 퍼센트, 정수면 스텝수\n",
        "    save_strategy=\"steps\",\n",
        "    report_to=\"none\"\n",
        ")\n",
        "\n",
        "trainer = Trainer(model=model, args=training_args, train_dataset=mydataset,\n",
        "    data_collator=lambda data: {'input_ids': torch.stack([f[0] for f in data]),\n",
        "                                                              'attention_mask': torch.stack([f[1] for f in data]),\n",
        "                                                              'labels': torch.stack([f[0] for f in data])})\n",
        "\n",
        "trainer.train()"
      ]
    },
    {
      "cell_type": "markdown",
      "id": "0fe42b96",
      "metadata": {
        "id": "0fe42b96"
      },
      "source": [
        "# Save model"
      ]
    },
    {
      "cell_type": "code",
      "execution_count": null,
      "id": "8bf5a00a-dc7a-4ebb-9d95-eee5e8f4318e",
      "metadata": {
        "id": "8bf5a00a-dc7a-4ebb-9d95-eee5e8f4318e"
      },
      "outputs": [],
      "source": [
        "output_dir = \"./FT/diff_tokenizer\""
      ]
    },
    {
      "cell_type": "code",
      "execution_count": null,
      "id": "5f101937-c5cd-4b83-bb4d-39576fe9073c",
      "metadata": {
        "id": "5f101937-c5cd-4b83-bb4d-39576fe9073c"
      },
      "outputs": [],
      "source": [
        "# save as trainer\n",
        "# tokenizer.save_pretrained(output_dir)\n",
        "# trainer.save_model(output_dir)"
      ]
    },
    {
      "cell_type": "code",
      "execution_count": null,
      "id": "e2c8dba5-4adc-4cf8-8307-7a6947fde4ba",
      "metadata": {
        "id": "e2c8dba5-4adc-4cf8-8307-7a6947fde4ba",
        "outputId": "3932ae86-4658-4a33-865c-cc82f59d6d5f"
      },
      "outputs": [
        {
          "data": {
            "text/plain": [
              "('./FT/diff_tokenizer\\\\tokenizer_config.json',\n",
              " './FT/diff_tokenizer\\\\special_tokens_map.json',\n",
              " './FT/diff_tokenizer\\\\tokenizer.json')"
            ]
          },
          "execution_count": 51,
          "metadata": {},
          "output_type": "execute_result"
        }
      ],
      "source": [
        "# save model and tokenizer\n",
        "model.save_pretrained(output_dir)\n",
        "tokenizer.save_pretrained(output_dir)"
      ]
    },
    {
      "cell_type": "markdown",
      "id": "ce8ca258-fa69-499d-bb30-e906bef3df4b",
      "metadata": {
        "id": "ce8ca258-fa69-499d-bb30-e906bef3df4b"
      },
      "source": [
        "# Load saved model"
      ]
    },
    {
      "cell_type": "code",
      "execution_count": null,
      "id": "7e64a572-c37b-4b22-b623-a3edc42f1df7",
      "metadata": {
        "id": "7e64a572-c37b-4b22-b623-a3edc42f1df7"
      },
      "outputs": [],
      "source": [
        "from transformers import AutoTokenizer, AutoModelForCausalLM\n",
        "import torch\n",
        "# tokenizer = AutoTokenizer.from_pretrained(output_dir)\n",
        "# model = AutoModelForCausalLM.from_pretrained(output_dir, torch_dtype=torch.float16, low_cpu_mem_usage=True).to(device=f\"cuda\", non_blocking=True)"
      ]
    },
    {
      "cell_type": "code",
      "execution_count": null,
      "id": "4ea7fbfb-0d7e-4f8c-bdc5-c05232fb7fea",
      "metadata": {
        "id": "4ea7fbfb-0d7e-4f8c-bdc5-c05232fb7fea"
      },
      "outputs": [],
      "source": [
        "from transformers import AutoTokenizer, AutoModelForCausalLM\n",
        "import torch\n",
        "\n",
        "tokenizer = AutoTokenizer.from_pretrained(output_dir)\n",
        "# tokenizer = AutoTokenizer.from_pretrained(\"eunyounglee/GPT-NeoX-1.3B-Viet-finetune-epoch-10\")\n",
        "model = AutoModelForCausalLM.from_pretrained(output_dir).to(\"cuda\")"
      ]
    },
    {
      "cell_type": "markdown",
      "id": "1447430f-8246-4cd4-b5e2-fe29f6090031",
      "metadata": {
        "id": "1447430f-8246-4cd4-b5e2-fe29f6090031"
      },
      "source": [
        "# Load Dataset again"
      ]
    },
    {
      "cell_type": "code",
      "execution_count": null,
      "id": "a18db446-89a7-49c1-b332-3703fde8187d",
      "metadata": {
        "id": "a18db446-89a7-49c1-b332-3703fde8187d"
      },
      "outputs": [],
      "source": [
        "# from datasets import load_dataset\n",
        "# dataset = load_dataset(\"tatsu-lab/alpaca\")\n",
        "# dataset = dataset['train']"
      ]
    },
    {
      "cell_type": "markdown",
      "id": "9092ecec-94eb-4422-9c0b-f08f240f83c4",
      "metadata": {
        "id": "9092ecec-94eb-4422-9c0b-f08f240f83c4"
      },
      "source": [
        "# Generate 1"
      ]
    },
    {
      "cell_type": "code",
      "execution_count": null,
      "id": "6ee26623-fc7e-4601-be58-2541de070a66",
      "metadata": {
        "id": "6ee26623-fc7e-4601-be58-2541de070a66"
      },
      "outputs": [],
      "source": [
        "i = 0\n",
        "text = \"###Question:\" + dataset['question'][i] + \"\\n###Answer:\""
      ]
    },
    {
      "cell_type": "code",
      "execution_count": null,
      "id": "b1d4a6ef-7156-434b-b8ac-a6e730c21861",
      "metadata": {
        "id": "b1d4a6ef-7156-434b-b8ac-a6e730c21861",
        "outputId": "b7557c9e-9113-43e6-9bf8-1a47e80b34c4"
      },
      "outputs": [
        {
          "data": {
            "text/plain": [
              "'###Question: Đưa ra ba lời khuyên để duy trì sức khoẻ.\\n###Answer:'"
            ]
          },
          "execution_count": 36,
          "metadata": {},
          "output_type": "execute_result"
        }
      ],
      "source": [
        "text"
      ]
    },
    {
      "cell_type": "code",
      "execution_count": null,
      "id": "276785f2-4b8c-4b60-bc44-62d137716716",
      "metadata": {
        "id": "276785f2-4b8c-4b60-bc44-62d137716716",
        "outputId": "4321ba9d-589f-45f9-ecae-d0585dd29a9c"
      },
      "outputs": [
        {
          "name": "stderr",
          "output_type": "stream",
          "text": [
            "The attention mask and the pad token id were not set. As a consequence, you may observe unexpected behavior. Please pass your input's `attention_mask` to obtain reliable results.\n",
            "Setting `pad_token_id` to `eos_token_id`:0 for open-end generation.\n"
          ]
        }
      ],
      "source": [
        "tokenizer.pad_token = \"[PAD]\"\n",
        "tokenizer.padding_side = \"left\"\n",
        "generated = tokenizer(\"<|startoftext|>\" + text, return_tensors=\"pt\").input_ids.cuda()\n",
        "sample_outputs = model.generate(generated, do_sample=True, top_k=50,\n",
        "                            #     bos_token='<|startoftext|>',\n",
        "                             #    eos_token='<|endoftext|>', pad_token='[PAD]', padding_side=\"left\",\n",
        "                                max_length=300, top_p=0.95, temperature=1.0, num_return_sequences=5)"
      ]
    },
    {
      "cell_type": "code",
      "execution_count": null,
      "id": "b7174a24-3d5a-410e-ad6e-4620fd1732f1",
      "metadata": {
        "id": "b7174a24-3d5a-410e-ad6e-4620fd1732f1",
        "outputId": "7ece61e2-14b1-4543-bfa4-80b6247e48f0"
      },
      "outputs": [
        {
          "name": "stdout",
          "output_type": "stream",
          "text": [
            "0:  ###Question: Đưa ra ba lời khuyên để duy trì sức khoẻ.\n",
            "###Answer: để và làm để việc công. công lượng mà bạn số có như là sử một việc để ở các liên lượng\n",
            " sự và như làm đó đến từ có khác trong từ một từ. không làm thực các như để là để người việc\n",
            " của trong cách. sự sử sự. nó\n",
            " và có, việc giá để \n",
            "\n",
            "1:  ###Question: Đưa ra ba lời khuyên để duy trì sức khoẻ.\n",
            "###Answer:,. không. công,, đến các mà ở. để và., thực những phát hiện của phát từ: làm nhiều không lượng trong cho sự \n",
            "\n",
            "2:  ###Question: Đưa ra ba lời khuyên để duy trì sức khoẻ.\n",
            "###Answer: có là là trong công lượng cho không làm để lượng cơ để một một\n",
            " thực cho thực thức có sự: để sử sự các phát là sự một thực trong thành thực có thực sự người ở không làm. nhà\n",
            " sự thực\n",
            " trong, công học có thức lý học thị. không và phát\n",
            " thực và các để ở nhiều của số và học thành cái học là sản thức các học thức mà phát thành sinh học sự lớn những thức là công sự những thực sự của của liên có quan thức của cái của của quan trong giá lớn phát làm cái thị để lý đồng trong làm \n",
            "\n",
            "3:  ###Question: Đưa ra ba lời khuyên để duy trì sức khoẻ.\n",
            "###Answer: và để thông bạn sự hình tác đó đến: là các và là đồng có. có. thực ở sử phát mà để của từ thực, của. có như thực thực chi để cho cho đó học để thức \n",
            "\n",
            "4:  ###Question: Đưa ra ba lời khuyên để duy trì sức khoẻ.\n",
            "###Answer: đồng: đến của ở như công một, các. chi sự sinh thực sự việc hình. \n",
            "\n"
          ]
        }
      ],
      "source": [
        "for i, sample_output in enumerate(sample_outputs):\n",
        "    print(\"{}: {} \\n\".format(i, tokenizer.decode(\n",
        "        sample_output, skip_special_tokens=True)))"
      ]
    },
    {
      "cell_type": "markdown",
      "id": "a7766f4e-ee02-49f3-9f64-707e34108df4",
      "metadata": {
        "id": "a7766f4e-ee02-49f3-9f64-707e34108df4"
      },
      "source": [
        "# Generate 2"
      ]
    },
    {
      "cell_type": "code",
      "execution_count": null,
      "id": "ea2436e5-0508-407f-b078-8c6964081d41",
      "metadata": {
        "id": "ea2436e5-0508-407f-b078-8c6964081d41"
      },
      "outputs": [],
      "source": [
        "from transformers import pipeline\n",
        "generator = pipeline('text-generation', model=model, tokenizer=tokenizer, device=0) # device=0)"
      ]
    },
    {
      "cell_type": "code",
      "execution_count": null,
      "id": "9039f7f8-9ebc-48c4-bb1e-cb25e6093534",
      "metadata": {
        "id": "9039f7f8-9ebc-48c4-bb1e-cb25e6093534",
        "outputId": "e8438387-5462-4466-fcc6-2229f07f8ce9"
      },
      "outputs": [
        {
          "name": "stderr",
          "output_type": "stream",
          "text": [
            "Setting `pad_token_id` to `eos_token_id`:50257 for open-end generation.\n"
          ]
        },
        {
          "data": {
            "text/plain": [
              "{'generated_text': '###Question: Bạn có thể tìm thấy gì trên Wikipedia?\\n###Answer:  có�ca đ+ địột:ột đị 1ột h�á đ+ h� P+ đị sở+� đ Nhung h�) có đ Nhung sạch đ+ Văn bộầột có) bộỹ đ) sở ph+ đị� đ Nhung X)õ Nhung Thương đ) bộếôi+� đ Nhung X)õ�ôi� 1 đ có)õ sạch) đ có) đ�ôi luôn� đ Nhung cùng giaoõ Nhung hướng đ) P Nhung sạch� đ Nhung X)�i Nhungờôi)õ Nhung cùng P)�ột h�)õ h�)õ đị) P)� nặng)� sở ph)ổ P�ôi)�ược�ờ P)�ôi7�� đ Nhung X)õ7 quốc đ)�ôi7�� đ Nhung X'}"
            ]
          },
          "execution_count": 58,
          "metadata": {},
          "output_type": "execute_result"
        }
      ],
      "source": [
        "prompt3 = text #@param {type:\"string\"}\n",
        "response_min_chars =  20#@param {type:\"integer\"}\n",
        "response_max_chars =  200#@param {type:\"integer\"}\n",
        "\n",
        "response_3 = generator(prompt3, do_sample=True, min_length=response_min_chars,\n",
        "                       max_length=response_max_chars,\n",
        "                       clean_up_tokenization_spaces=True,\n",
        "                       return_full_text=True)\n",
        "out3_dict = response_3[0]\n",
        "out3_dict"
      ]
    },
    {
      "cell_type": "markdown",
      "id": "aeabf27b-9816-4fb7-854d-2528155fbc75",
      "metadata": {
        "id": "aeabf27b-9816-4fb7-854d-2528155fbc75"
      },
      "source": [
        "# Upload to Huggingface"
      ]
    },
    {
      "cell_type": "code",
      "execution_count": null,
      "id": "54133fa6-5656-48a9-87d2-f4747596c10b",
      "metadata": {
        "colab": {
          "referenced_widgets": [
            "04d2894fadc84276835b9f6f74850321"
          ]
        },
        "id": "54133fa6-5656-48a9-87d2-f4747596c10b",
        "outputId": "602cc637-29b3-4f63-83d3-eddf1eb1f472"
      },
      "outputs": [
        {
          "data": {
            "application/vnd.jupyter.widget-view+json": {
              "model_id": "04d2894fadc84276835b9f6f74850321",
              "version_major": 2,
              "version_minor": 0
            },
            "text/plain": [
              "VBox(children=(HTML(value='<center> <img\\nsrc=https://huggingface.co/front/assets/huggingface_logo-noborder.sv…"
            ]
          },
          "metadata": {},
          "output_type": "display_data"
        }
      ],
      "source": [
        "from huggingface_hub import login\n",
        "login()"
      ]
    },
    {
      "cell_type": "code",
      "execution_count": null,
      "id": "b7e21a3b-624f-44d5-b2f9-ace085edca3f",
      "metadata": {
        "id": "b7e21a3b-624f-44d5-b2f9-ace085edca3f",
        "outputId": "5bc8bdb2-5f2f-41e5-902b-6d29abc416d2"
      },
      "outputs": [
        {
          "data": {
            "text/plain": [
              "CommitInfo(commit_url='https://huggingface.co/eunyounglee/GPT-NeoX-1.3B-viet-custom-10/commit/c582c97f291cf6d43d6d1156c9ae7235c9279473', commit_message='Upload tokenizer', commit_description='', oid='c582c97f291cf6d43d6d1156c9ae7235c9279473', pr_url=None, pr_revision=None, pr_num=None)"
            ]
          },
          "execution_count": 41,
          "metadata": {},
          "output_type": "execute_result"
        }
      ],
      "source": [
        "tokenizer.push_to_hub(\"eunyounglee/GPT-NeoX-1.3B-viet-custom-10\")"
      ]
    },
    {
      "cell_type": "code",
      "execution_count": null,
      "id": "db55a1e6-caaa-49af-90a8-591023e429d5",
      "metadata": {
        "scrolled": true,
        "colab": {
          "referenced_widgets": [
            "9b6672b96eac4d72a93564e7f2b06a7b"
          ]
        },
        "id": "db55a1e6-caaa-49af-90a8-591023e429d5",
        "outputId": "b49f258a-92c9-48c0-8de9-bfca748e2f59"
      },
      "outputs": [
        {
          "data": {
            "application/vnd.jupyter.widget-view+json": {
              "model_id": "9b6672b96eac4d72a93564e7f2b06a7b",
              "version_major": 2,
              "version_minor": 0
            },
            "text/plain": [
              "pytorch_model.bin:   0%|          | 0.00/5.34G [00:00<?, ?B/s]"
            ]
          },
          "metadata": {},
          "output_type": "display_data"
        },
        {
          "data": {
            "text/plain": [
              "CommitInfo(commit_url='https://huggingface.co/eunyounglee/GPT-NeoX-1.3B-viet-custom-10/commit/5984fbb02756288a08b1cc0b3895d2a262ffb26c', commit_message='Upload GPTNeoForCausalLM', commit_description='', oid='5984fbb02756288a08b1cc0b3895d2a262ffb26c', pr_url=None, pr_revision=None, pr_num=None)"
            ]
          },
          "execution_count": 42,
          "metadata": {},
          "output_type": "execute_result"
        }
      ],
      "source": [
        "model.push_to_hub(\"eunyounglee/GPT-NeoX-1.3B-viet-custom-10\")"
      ]
    },
    {
      "cell_type": "code",
      "execution_count": null,
      "id": "d763efe4-2d1b-42de-81aa-cd36b24c4916",
      "metadata": {
        "id": "d763efe4-2d1b-42de-81aa-cd36b24c4916"
      },
      "outputs": [],
      "source": []
    }
  ],
  "metadata": {
    "kernelspec": {
      "display_name": "Python 3 (ipykernel)",
      "language": "python",
      "name": "python3"
    },
    "language_info": {
      "codemirror_mode": {
        "name": "ipython",
        "version": 3
      },
      "file_extension": ".py",
      "mimetype": "text/x-python",
      "name": "python",
      "nbconvert_exporter": "python",
      "pygments_lexer": "ipython3",
      "version": "3.10.10"
    },
    "colab": {
      "provenance": []
    },
    "widgets": {
      "application/vnd.jupyter.widget-state+json": {
        "5f64bf6a50fe4a3e8b06833a034b7589": {
          "model_module": "@jupyter-widgets/controls",
          "model_name": "HBoxModel",
          "model_module_version": "1.5.0",
          "state": {
            "_dom_classes": [],
            "_model_module": "@jupyter-widgets/controls",
            "_model_module_version": "1.5.0",
            "_model_name": "HBoxModel",
            "_view_count": null,
            "_view_module": "@jupyter-widgets/controls",
            "_view_module_version": "1.5.0",
            "_view_name": "HBoxView",
            "box_style": "",
            "children": [
              "IPY_MODEL_5c885597d2804ec798d21cc6cf6cfc23",
              "IPY_MODEL_75e77b0b616e4208aaff21f09fd08056",
              "IPY_MODEL_021cc04dcaea4684b7f25e019e52d7a8"
            ],
            "layout": "IPY_MODEL_1fdfd16355354fd5a61e7ba93da2a8be"
          }
        },
        "5c885597d2804ec798d21cc6cf6cfc23": {
          "model_module": "@jupyter-widgets/controls",
          "model_name": "HTMLModel",
          "model_module_version": "1.5.0",
          "state": {
            "_dom_classes": [],
            "_model_module": "@jupyter-widgets/controls",
            "_model_module_version": "1.5.0",
            "_model_name": "HTMLModel",
            "_view_count": null,
            "_view_module": "@jupyter-widgets/controls",
            "_view_module_version": "1.5.0",
            "_view_name": "HTMLView",
            "description": "",
            "description_tooltip": null,
            "layout": "IPY_MODEL_bba4859d442f4fa69fb17f009f3f83b1",
            "placeholder": "​",
            "style": "IPY_MODEL_80a1fa4029484dbeb1da3d7f445b5500",
            "value": "model.safetensors: 100%"
          }
        },
        "75e77b0b616e4208aaff21f09fd08056": {
          "model_module": "@jupyter-widgets/controls",
          "model_name": "FloatProgressModel",
          "model_module_version": "1.5.0",
          "state": {
            "_dom_classes": [],
            "_model_module": "@jupyter-widgets/controls",
            "_model_module_version": "1.5.0",
            "_model_name": "FloatProgressModel",
            "_view_count": null,
            "_view_module": "@jupyter-widgets/controls",
            "_view_module_version": "1.5.0",
            "_view_name": "ProgressView",
            "bar_style": "success",
            "description": "",
            "description_tooltip": null,
            "layout": "IPY_MODEL_c3cb96f47d2f45aab4a5249d316dd237",
            "max": 525979192,
            "min": 0,
            "orientation": "horizontal",
            "style": "IPY_MODEL_474a0f6075514f4eb938354c75cb51ab",
            "value": 525979192
          }
        },
        "021cc04dcaea4684b7f25e019e52d7a8": {
          "model_module": "@jupyter-widgets/controls",
          "model_name": "HTMLModel",
          "model_module_version": "1.5.0",
          "state": {
            "_dom_classes": [],
            "_model_module": "@jupyter-widgets/controls",
            "_model_module_version": "1.5.0",
            "_model_name": "HTMLModel",
            "_view_count": null,
            "_view_module": "@jupyter-widgets/controls",
            "_view_module_version": "1.5.0",
            "_view_name": "HTMLView",
            "description": "",
            "description_tooltip": null,
            "layout": "IPY_MODEL_3deae4de694a46f8a8e5fb844685b935",
            "placeholder": "​",
            "style": "IPY_MODEL_e937bb00a17540a6b3143313090051ea",
            "value": " 526M/526M [00:11&lt;00:00, 41.5MB/s]"
          }
        },
        "1fdfd16355354fd5a61e7ba93da2a8be": {
          "model_module": "@jupyter-widgets/base",
          "model_name": "LayoutModel",
          "model_module_version": "1.2.0",
          "state": {
            "_model_module": "@jupyter-widgets/base",
            "_model_module_version": "1.2.0",
            "_model_name": "LayoutModel",
            "_view_count": null,
            "_view_module": "@jupyter-widgets/base",
            "_view_module_version": "1.2.0",
            "_view_name": "LayoutView",
            "align_content": null,
            "align_items": null,
            "align_self": null,
            "border": null,
            "bottom": null,
            "display": null,
            "flex": null,
            "flex_flow": null,
            "grid_area": null,
            "grid_auto_columns": null,
            "grid_auto_flow": null,
            "grid_auto_rows": null,
            "grid_column": null,
            "grid_gap": null,
            "grid_row": null,
            "grid_template_areas": null,
            "grid_template_columns": null,
            "grid_template_rows": null,
            "height": null,
            "justify_content": null,
            "justify_items": null,
            "left": null,
            "margin": null,
            "max_height": null,
            "max_width": null,
            "min_height": null,
            "min_width": null,
            "object_fit": null,
            "object_position": null,
            "order": null,
            "overflow": null,
            "overflow_x": null,
            "overflow_y": null,
            "padding": null,
            "right": null,
            "top": null,
            "visibility": null,
            "width": null
          }
        },
        "bba4859d442f4fa69fb17f009f3f83b1": {
          "model_module": "@jupyter-widgets/base",
          "model_name": "LayoutModel",
          "model_module_version": "1.2.0",
          "state": {
            "_model_module": "@jupyter-widgets/base",
            "_model_module_version": "1.2.0",
            "_model_name": "LayoutModel",
            "_view_count": null,
            "_view_module": "@jupyter-widgets/base",
            "_view_module_version": "1.2.0",
            "_view_name": "LayoutView",
            "align_content": null,
            "align_items": null,
            "align_self": null,
            "border": null,
            "bottom": null,
            "display": null,
            "flex": null,
            "flex_flow": null,
            "grid_area": null,
            "grid_auto_columns": null,
            "grid_auto_flow": null,
            "grid_auto_rows": null,
            "grid_column": null,
            "grid_gap": null,
            "grid_row": null,
            "grid_template_areas": null,
            "grid_template_columns": null,
            "grid_template_rows": null,
            "height": null,
            "justify_content": null,
            "justify_items": null,
            "left": null,
            "margin": null,
            "max_height": null,
            "max_width": null,
            "min_height": null,
            "min_width": null,
            "object_fit": null,
            "object_position": null,
            "order": null,
            "overflow": null,
            "overflow_x": null,
            "overflow_y": null,
            "padding": null,
            "right": null,
            "top": null,
            "visibility": null,
            "width": null
          }
        },
        "80a1fa4029484dbeb1da3d7f445b5500": {
          "model_module": "@jupyter-widgets/controls",
          "model_name": "DescriptionStyleModel",
          "model_module_version": "1.5.0",
          "state": {
            "_model_module": "@jupyter-widgets/controls",
            "_model_module_version": "1.5.0",
            "_model_name": "DescriptionStyleModel",
            "_view_count": null,
            "_view_module": "@jupyter-widgets/base",
            "_view_module_version": "1.2.0",
            "_view_name": "StyleView",
            "description_width": ""
          }
        },
        "c3cb96f47d2f45aab4a5249d316dd237": {
          "model_module": "@jupyter-widgets/base",
          "model_name": "LayoutModel",
          "model_module_version": "1.2.0",
          "state": {
            "_model_module": "@jupyter-widgets/base",
            "_model_module_version": "1.2.0",
            "_model_name": "LayoutModel",
            "_view_count": null,
            "_view_module": "@jupyter-widgets/base",
            "_view_module_version": "1.2.0",
            "_view_name": "LayoutView",
            "align_content": null,
            "align_items": null,
            "align_self": null,
            "border": null,
            "bottom": null,
            "display": null,
            "flex": null,
            "flex_flow": null,
            "grid_area": null,
            "grid_auto_columns": null,
            "grid_auto_flow": null,
            "grid_auto_rows": null,
            "grid_column": null,
            "grid_gap": null,
            "grid_row": null,
            "grid_template_areas": null,
            "grid_template_columns": null,
            "grid_template_rows": null,
            "height": null,
            "justify_content": null,
            "justify_items": null,
            "left": null,
            "margin": null,
            "max_height": null,
            "max_width": null,
            "min_height": null,
            "min_width": null,
            "object_fit": null,
            "object_position": null,
            "order": null,
            "overflow": null,
            "overflow_x": null,
            "overflow_y": null,
            "padding": null,
            "right": null,
            "top": null,
            "visibility": null,
            "width": null
          }
        },
        "474a0f6075514f4eb938354c75cb51ab": {
          "model_module": "@jupyter-widgets/controls",
          "model_name": "ProgressStyleModel",
          "model_module_version": "1.5.0",
          "state": {
            "_model_module": "@jupyter-widgets/controls",
            "_model_module_version": "1.5.0",
            "_model_name": "ProgressStyleModel",
            "_view_count": null,
            "_view_module": "@jupyter-widgets/base",
            "_view_module_version": "1.2.0",
            "_view_name": "StyleView",
            "bar_color": null,
            "description_width": ""
          }
        },
        "3deae4de694a46f8a8e5fb844685b935": {
          "model_module": "@jupyter-widgets/base",
          "model_name": "LayoutModel",
          "model_module_version": "1.2.0",
          "state": {
            "_model_module": "@jupyter-widgets/base",
            "_model_module_version": "1.2.0",
            "_model_name": "LayoutModel",
            "_view_count": null,
            "_view_module": "@jupyter-widgets/base",
            "_view_module_version": "1.2.0",
            "_view_name": "LayoutView",
            "align_content": null,
            "align_items": null,
            "align_self": null,
            "border": null,
            "bottom": null,
            "display": null,
            "flex": null,
            "flex_flow": null,
            "grid_area": null,
            "grid_auto_columns": null,
            "grid_auto_flow": null,
            "grid_auto_rows": null,
            "grid_column": null,
            "grid_gap": null,
            "grid_row": null,
            "grid_template_areas": null,
            "grid_template_columns": null,
            "grid_template_rows": null,
            "height": null,
            "justify_content": null,
            "justify_items": null,
            "left": null,
            "margin": null,
            "max_height": null,
            "max_width": null,
            "min_height": null,
            "min_width": null,
            "object_fit": null,
            "object_position": null,
            "order": null,
            "overflow": null,
            "overflow_x": null,
            "overflow_y": null,
            "padding": null,
            "right": null,
            "top": null,
            "visibility": null,
            "width": null
          }
        },
        "e937bb00a17540a6b3143313090051ea": {
          "model_module": "@jupyter-widgets/controls",
          "model_name": "DescriptionStyleModel",
          "model_module_version": "1.5.0",
          "state": {
            "_model_module": "@jupyter-widgets/controls",
            "_model_module_version": "1.5.0",
            "_model_name": "DescriptionStyleModel",
            "_view_count": null,
            "_view_module": "@jupyter-widgets/base",
            "_view_module_version": "1.2.0",
            "_view_name": "StyleView",
            "description_width": ""
          }
        }
      }
    }
  },
  "nbformat": 4,
  "nbformat_minor": 5
}